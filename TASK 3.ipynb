{
 "cells": [
  {
   "cell_type": "markdown",
   "id": "8afbe483",
   "metadata": {},
   "source": [
    "**1.Check the given number is odd or even.**"
   ]
  },
  {
   "cell_type": "code",
   "execution_count": 1,
   "id": "a64cb0cc",
   "metadata": {},
   "outputs": [
    {
     "name": "stdout",
     "output_type": "stream",
     "text": [
      "enter the number13\n",
      "the number is odd\n"
     ]
    }
   ],
   "source": [
    "n=int(input(\"enter the number\"))\n",
    "\n",
    "if n%2==0:\n",
    "    print(\"the number is even\")\n",
    "else:\n",
    "    print(\"the number is odd\")"
   ]
  },
  {
   "cell_type": "markdown",
   "id": "bf321763",
   "metadata": {},
   "source": [
    "**2. Check the given number is amstrong or not.**"
   ]
  },
  {
   "cell_type": "code",
   "execution_count": 6,
   "id": "0c88b45e",
   "metadata": {},
   "outputs": [
    {
     "name": "stdout",
     "output_type": "stream",
     "text": [
      "enter the number :1634\n",
      "1634 is armstrong number\n"
     ]
    }
   ],
   "source": [
    "n = int(input(\"enter the number :\"))\n",
    "s = n \n",
    "l = len(str(n))\n",
    "sum1 = 0\n",
    "while n != 0:\n",
    "    r = n % 10\n",
    "    sum1 = sum1+(r**l)\n",
    "    n = n//10\n",
    "if s == sum1:\n",
    "    print(s, \"is armstrong number\")\n",
    "else:\n",
    "    print(s, \"is not armstrong number\")"
   ]
  },
  {
   "cell_type": "markdown",
   "id": "9d8e5504",
   "metadata": {},
   "source": [
    "**3. Check the given number is palindrome or not.**"
   ]
  },
  {
   "cell_type": "code",
   "execution_count": 8,
   "id": "efa3a2a6",
   "metadata": {},
   "outputs": [
    {
     "name": "stdout",
     "output_type": "stream",
     "text": [
      "enter a number123\n",
      "321 \n",
      "its not a palindrome number\n"
     ]
    }
   ],
   "source": [
    "n=input(\"enter a number\")\n",
    "rev=\" \"\n",
    "for i in n:\n",
    "    rev=i+rev\n",
    "print(rev)\n",
    "if n==rev:\n",
    "    print(\"it is palindrome number\")\n",
    "else:\n",
    "    print(\"its not a palindrome number\")"
   ]
  },
  {
   "cell_type": "markdown",
   "id": "3ced62ab",
   "metadata": {},
   "source": [
    "**4. Check a string is palindrome**"
   ]
  },
  {
   "cell_type": "code",
   "execution_count": 9,
   "id": "3e468866",
   "metadata": {},
   "outputs": [
    {
     "name": "stdout",
     "output_type": "stream",
     "text": [
      "enter the stringabcd\n",
      "dcba \n",
      "string is not palindrome\n"
     ]
    }
   ],
   "source": [
    "s=input(\"enter the string\")\n",
    "rev=\" \"\n",
    "for i in s:\n",
    "    rev=i+rev\n",
    "print(rev)\n",
    "if rev==s:\n",
    "    print(\"string is palindrome\")\n",
    "else:\n",
    "    print(\"string is not palindrome\")"
   ]
  },
  {
   "cell_type": "markdown",
   "id": "e045571e",
   "metadata": {},
   "source": [
    "**5. Program to find the factorial of a number**"
   ]
  },
  {
   "cell_type": "code",
   "execution_count": 10,
   "id": "c3e1b0bb",
   "metadata": {},
   "outputs": [
    {
     "name": "stdout",
     "output_type": "stream",
     "text": [
      "enter a number5\n",
      "factorial : 120\n"
     ]
    }
   ],
   "source": [
    "n=int(input(\"enter a number\"))\n",
    "f=1\n",
    "for i in range(1,n+1):\n",
    "    f=f*i\n",
    "    \n",
    "print(\"factorial :\", f)"
   ]
  },
  {
   "cell_type": "code",
   "execution_count": null,
   "id": "c308f8e7",
   "metadata": {},
   "outputs": [],
   "source": []
  }
 ],
 "metadata": {
  "kernelspec": {
   "display_name": "Python 3 (ipykernel)",
   "language": "python",
   "name": "python3"
  },
  "language_info": {
   "codemirror_mode": {
    "name": "ipython",
    "version": 3
   },
   "file_extension": ".py",
   "mimetype": "text/x-python",
   "name": "python",
   "nbconvert_exporter": "python",
   "pygments_lexer": "ipython3",
   "version": "3.9.13"
  }
 },
 "nbformat": 4,
 "nbformat_minor": 5
}
