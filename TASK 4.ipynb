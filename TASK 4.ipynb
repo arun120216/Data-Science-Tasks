{
 "cells": [
  {
   "cell_type": "markdown",
   "id": "5fe1dad4",
   "metadata": {},
   "source": [
    "**1. Factorial of a number**"
   ]
  },
  {
   "cell_type": "code",
   "execution_count": 1,
   "id": "43ea64aa",
   "metadata": {},
   "outputs": [
    {
     "name": "stdout",
     "output_type": "stream",
     "text": [
      "Enter the number::5\n",
      "The factorial is: 120\n"
     ]
    }
   ],
   "source": [
    "n = int(input('Enter the number::'))\n",
    "f = 1\n",
    "if n>1:\n",
    "    for i in range(1,n+1):\n",
    "        f=f*i\n",
    "    \n",
    "print('The factorial is:',f)    "
   ]
  },
  {
   "cell_type": "markdown",
   "id": "974ce3bf",
   "metadata": {},
   "source": [
    "**2. Fibonacci Series.**"
   ]
  },
  {
   "cell_type": "code",
   "execution_count": 12,
   "id": "15ead47d",
   "metadata": {},
   "outputs": [
    {
     "name": "stdout",
     "output_type": "stream",
     "text": [
      "Enter the number :10\n",
      "0 1 1 2 3 5 8 13 21 34 "
     ]
    }
   ],
   "source": [
    "n = int(input('Enter the number :'))\n",
    "a = 0\n",
    "b = 1\n",
    "for i in range(n):\n",
    "    print(a,end=\" \")\n",
    "    a,b = b,a+b"
   ]
  },
  {
   "cell_type": "markdown",
   "id": "e2cdedfa",
   "metadata": {},
   "source": [
    "**3. Program to print all prime numbers between 1 to 100.**"
   ]
  },
  {
   "cell_type": "code",
   "execution_count": 13,
   "id": "d1a7cd9c",
   "metadata": {},
   "outputs": [
    {
     "name": "stdout",
     "output_type": "stream",
     "text": [
      "2\n",
      "3\n",
      "5\n",
      "7\n",
      "11\n",
      "13\n",
      "17\n",
      "19\n",
      "23\n",
      "29\n",
      "31\n",
      "37\n",
      "41\n",
      "43\n",
      "47\n",
      "53\n",
      "59\n",
      "61\n",
      "67\n",
      "71\n",
      "73\n",
      "79\n",
      "83\n",
      "89\n",
      "97\n"
     ]
    }
   ],
   "source": [
    "for n in range (1,100+1):  \n",
    "    if n > 1:  \n",
    "        for i in range (2, n):  \n",
    "            if (n % i) == 0:  \n",
    "                break  \n",
    "        else:  \n",
    "            print (n) "
   ]
  },
  {
   "cell_type": "markdown",
   "id": "dcfe4fd1",
   "metadata": {},
   "source": [
    "**4- Program to print the average of n numbers.**"
   ]
  },
  {
   "cell_type": "code",
   "execution_count": 14,
   "id": "bc0cf416",
   "metadata": {},
   "outputs": [
    {
     "name": "stdout",
     "output_type": "stream",
     "text": [
      "Enter the total number:4\n",
      "Enter the number:2\n",
      "Enter the number:3\n",
      "Enter the number:4\n",
      "Enter the number:5\n",
      "Average= 3.5\n"
     ]
    }
   ],
   "source": [
    "n = int(input(\"Enter the total number:\"))\n",
    "sum = 0\n",
    "for i in range(n):\n",
    "    x = int(input(\"Enter the number:\"))\n",
    "    sum = sum + x\n",
    "\n",
    "avg = sum / n\n",
    "\n",
    "print(\"Average=\", avg)"
   ]
  },
  {
   "cell_type": "markdown",
   "id": "1c1541a8",
   "metadata": {},
   "source": [
    "**5- Program to print the sum of digits.**"
   ]
  },
  {
   "cell_type": "code",
   "execution_count": 16,
   "id": "892422f5",
   "metadata": {},
   "outputs": [
    {
     "name": "stdout",
     "output_type": "stream",
     "text": [
      "Enter the Number: 123\n",
      "6\n"
     ]
    }
   ],
   "source": [
    "n= input(\"Enter the Number: \")\n",
    "sum = 0\n",
    "\n",
    "for i in n:\n",
    "    sum = sum + int(i)\n",
    "\n",
    "print(sum)"
   ]
  },
  {
   "cell_type": "code",
   "execution_count": null,
   "id": "a12653f8",
   "metadata": {},
   "outputs": [],
   "source": []
  }
 ],
 "metadata": {
  "kernelspec": {
   "display_name": "Python 3 (ipykernel)",
   "language": "python",
   "name": "python3"
  },
  "language_info": {
   "codemirror_mode": {
    "name": "ipython",
    "version": 3
   },
   "file_extension": ".py",
   "mimetype": "text/x-python",
   "name": "python",
   "nbconvert_exporter": "python",
   "pygments_lexer": "ipython3",
   "version": "3.9.13"
  }
 },
 "nbformat": 4,
 "nbformat_minor": 5
}
