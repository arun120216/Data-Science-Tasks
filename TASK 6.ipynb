{
 "cells": [
  {
   "cell_type": "markdown",
   "id": "75122052",
   "metadata": {},
   "source": [
    "**1. Program to sort the elements of an array in ascending order.**"
   ]
  },
  {
   "cell_type": "code",
   "execution_count": 6,
   "id": "73570585",
   "metadata": {},
   "outputs": [
    {
     "name": "stdout",
     "output_type": "stream",
     "text": [
      "[1, 2, 3, 4, 5, 7]\n"
     ]
    }
   ],
   "source": [
    "a=[2,5,7,3,4,1]\n",
    "a.sort()\n",
    "print(a)"
   ]
  },
  {
   "cell_type": "markdown",
   "id": "50c4c356",
   "metadata": {},
   "source": [
    "**2. Program to sort the elements of an array in descending order.**"
   ]
  },
  {
   "cell_type": "code",
   "execution_count": 7,
   "id": "575b2260",
   "metadata": {},
   "outputs": [
    {
     "name": "stdout",
     "output_type": "stream",
     "text": [
      "[7, 5, 4, 3, 2, 1]\n"
     ]
    }
   ],
   "source": [
    "a=[2,5,7,3,4,1]\n",
    "a.sort()\n",
    "print(a[::-1])"
   ]
  },
  {
   "cell_type": "markdown",
   "id": "37dcbfa2",
   "metadata": {},
   "source": [
    "**3. Print Even and Odd Numbers in an Array.**"
   ]
  },
  {
   "cell_type": "code",
   "execution_count": 8,
   "id": "752fcf19",
   "metadata": {},
   "outputs": [
    {
     "name": "stdout",
     "output_type": "stream",
     "text": [
      "even list : [2, 4, 6, 8, 10]\n",
      "odd list : [1, 3, 5, 7, 9]\n"
     ]
    }
   ],
   "source": [
    "a=[1,2,3,4,5,6,7,8,9,10]\n",
    "even=[]\n",
    "odd=[]\n",
    "for i in a:\n",
    "    if i%2==0:\n",
    "        even.append(i)\n",
    "    else:\n",
    "        odd.append(i)\n",
    "print(\"even list :\",even)\n",
    "print(\"odd list :\",odd)"
   ]
  },
  {
   "cell_type": "markdown",
   "id": "127cade9",
   "metadata": {},
   "source": [
    "**4. Program to calculate the addition of 2 matrices.**"
   ]
  },
  {
   "cell_type": "code",
   "execution_count": 14,
   "id": "77a50d71",
   "metadata": {},
   "outputs": [
    {
     "name": "stdout",
     "output_type": "stream",
     "text": [
      "[11, 13, 15]\n",
      "[17, 19, 21]\n",
      "[23, 25, 27]\n"
     ]
    }
   ],
   "source": [
    "a=[[1,2,3],  \n",
    "   [4,5,6],  \n",
    "   [7,8,9]] \n",
    "b=[[10,11,12],  \n",
    "     [13,14,15],  \n",
    "     [16,17,18]] \n",
    "sum=[[0,0,0],  \n",
    "     [0,0,0],  \n",
    "     [0,0,0]]\n",
    "for i in range(len(a)):  \n",
    "    for j in range(len(a[0])):  \n",
    "        sum[i][j]=a[i][j]+b[i][j]  \n",
    "for s in sum:  \n",
    "    print(s)  "
   ]
  },
  {
   "cell_type": "markdown",
   "id": "851ef285",
   "metadata": {},
   "source": [
    "**5. Program to count the total number of vowels and consonants in a string.**"
   ]
  },
  {
   "cell_type": "code",
   "execution_count": 16,
   "id": "6180ee6b",
   "metadata": {},
   "outputs": [
    {
     "name": "stdout",
     "output_type": "stream",
     "text": [
      "enter the string :mobile\n",
      "number of vowels in string : 3\n",
      "number of consonants in string : 3\n"
     ]
    }
   ],
   "source": [
    "s=input(\"enter the string :\")\n",
    "vowels=['A','E','I','O','U','a','e','i','o','u']\n",
    "vowel_count=0\n",
    "consonant_count=0\n",
    "for i in s:\n",
    "    if i in vowels:\n",
    "        vowel_count=vowel_count+1\n",
    "    else:\n",
    "        consonant_count=consonant_count+1\n",
    "print(\"number of vowels in string :\",vowel_count)\n",
    "print(\"number of consonants in string :\",consonant_count)\n",
    "        \n",
    "        "
   ]
  },
  {
   "cell_type": "markdown",
   "id": "ad6235c7",
   "metadata": {},
   "source": [
    "**6. Program to remove all the white spaces from a string.**"
   ]
  },
  {
   "cell_type": "code",
   "execution_count": 32,
   "id": "df856f2c",
   "metadata": {},
   "outputs": [
    {
     "name": "stdout",
     "output_type": "stream",
     "text": [
      "hello\n"
     ]
    }
   ],
   "source": [
    "def remove(string):\n",
    "    return string.replace(\" \", \"\")\n",
    "string = '  h e l  l   o '\n",
    "print(remove(string))"
   ]
  },
  {
   "cell_type": "markdown",
   "id": "003dccb6",
   "metadata": {},
   "source": [
    "**7. Program to Count the Total Number of Characters in a String.**"
   ]
  },
  {
   "cell_type": "code",
   "execution_count": 39,
   "id": "1967dfda",
   "metadata": {},
   "outputs": [
    {
     "name": "stdout",
     "output_type": "stream",
     "text": [
      "Please Enter your Own String : it is an apple\n",
      "Total Number of Characters in this String : 14\n"
     ]
    }
   ],
   "source": [
    "str1=input(\"Please Enter your Own String : \")\n",
    "n=0\n",
    "for i in range(len(str1)):\n",
    "    n=n+1\n",
    "print(\"Total Number of Characters in this String :\", n)"
   ]
  },
  {
   "cell_type": "code",
   "execution_count": 36,
   "id": "d206a686",
   "metadata": {},
   "outputs": [
    {
     "name": "stdout",
     "output_type": "stream",
     "text": [
      "Please Enter your Own String : it is an apple\n",
      "14\n"
     ]
    }
   ],
   "source": [
    "str1=input(\"Please Enter your Own String : \")\n",
    "print(len(str1))"
   ]
  },
  {
   "cell_type": "markdown",
   "id": "84686435",
   "metadata": {},
   "source": [
    "**8. Program to Count the Total Number of Words in a String.**"
   ]
  },
  {
   "cell_type": "code",
   "execution_count": 46,
   "id": "174d68ef",
   "metadata": {},
   "outputs": [
    {
     "name": "stdout",
     "output_type": "stream",
     "text": [
      "Please Enter your Own String : it is an apple\n",
      "no:of words : 4\n"
     ]
    }
   ],
   "source": [
    "str1=input(\"Please Enter your Own String : \")\n",
    "print(\"no:of words :\",len(str1.split(\" \")))"
   ]
  },
  {
   "cell_type": "markdown",
   "id": "fc6dd67a",
   "metadata": {},
   "source": [
    "**9. To find an element from the String Array.**"
   ]
  },
  {
   "cell_type": "code",
   "execution_count": 47,
   "id": "80f81067",
   "metadata": {},
   "outputs": [
    {
     "name": "stdout",
     "output_type": "stream",
     "text": [
      "enter the element to check :apple\n",
      "element is present in array\n"
     ]
    }
   ],
   "source": [
    "a=input(\"enter the element to check :\")\n",
    "s=['apple','banana','grapes','orange']\n",
    "if a in s:\n",
    "    print(\"element is present in array\")\n",
    "else:\n",
    "    print(\"element is not in array\")"
   ]
  },
  {
   "cell_type": "markdown",
   "id": "a63854d8",
   "metadata": {},
   "source": [
    "**10. Program to Find Reverse of a String.**"
   ]
  },
  {
   "cell_type": "code",
   "execution_count": 48,
   "id": "36555829",
   "metadata": {},
   "outputs": [
    {
     "name": "stdout",
     "output_type": "stream",
     "text": [
      "elibom\n"
     ]
    }
   ],
   "source": [
    "s=\"mobile\"\n",
    "print(s[::-1])"
   ]
  },
  {
   "cell_type": "code",
   "execution_count": null,
   "id": "8f8b7588",
   "metadata": {},
   "outputs": [],
   "source": []
  }
 ],
 "metadata": {
  "kernelspec": {
   "display_name": "Python 3 (ipykernel)",
   "language": "python",
   "name": "python3"
  },
  "language_info": {
   "codemirror_mode": {
    "name": "ipython",
    "version": 3
   },
   "file_extension": ".py",
   "mimetype": "text/x-python",
   "name": "python",
   "nbconvert_exporter": "python",
   "pygments_lexer": "ipython3",
   "version": "3.9.13"
  }
 },
 "nbformat": 4,
 "nbformat_minor": 5
}
