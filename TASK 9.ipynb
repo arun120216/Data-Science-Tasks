{
 "cells": [
  {
   "cell_type": "markdown",
   "id": "bf2179cf",
   "metadata": {},
   "source": [
    "**1.Program to print ASCII value of a character**"
   ]
  },
  {
   "cell_type": "code",
   "execution_count": 3,
   "id": "522ff9b6",
   "metadata": {},
   "outputs": [
    {
     "name": "stdout",
     "output_type": "stream",
     "text": [
      "enter a character: A\n",
      "ASCII Value of A is 65\n"
     ]
    }
   ],
   "source": [
    "ch=input('enter a character: ')\n",
    "print(\"ASCII Value of\",ch,\"is\",ord(ch))"
   ]
  },
  {
   "cell_type": "markdown",
   "id": "9d8a61a2",
   "metadata": {},
   "source": [
    "**2.Print ASCII value of all character**"
   ]
  },
  {
   "cell_type": "code",
   "execution_count": 12,
   "id": "b5c1c72a",
   "metadata": {},
   "outputs": [
    {
     "name": "stdout",
     "output_type": "stream",
     "text": [
      "enter the string :JULY\n",
      "ASCII value of  J is 74\n",
      "ASCII value of  U is 85\n",
      "ASCII value of  L is 76\n",
      "ASCII value of  Y is 89\n"
     ]
    }
   ],
   "source": [
    "string=input(\"enter the string :\")\n",
    "for i in string:\n",
    "    print(\"ASCII value of \",i, \"is\", ord(i))"
   ]
  },
  {
   "cell_type": "markdown",
   "id": "80fb5075",
   "metadata": {},
   "source": [
    "**3. Find the Largest Among Three Numbers.**"
   ]
  },
  {
   "cell_type": "code",
   "execution_count": 4,
   "id": "9f0ed32b",
   "metadata": {},
   "outputs": [
    {
     "name": "stdout",
     "output_type": "stream",
     "text": [
      "enter the first number: 10\n",
      "enter the second number: 20\n",
      "enter the third number: 30\n",
      "Largest number is  30\n"
     ]
    }
   ],
   "source": [
    "n1=int(input(\"enter the first number: \"))\n",
    "n2=int(input(\"enter the second number: \"))\n",
    "n3=int(input(\"enter the third number: \"))\n",
    "if (n1>n2)&(n1>n3):\n",
    "    print(\"Largest number is \",n1)\n",
    "elif (n2>n1)&(n2>n3):\n",
    "    print(\"Largest number is \",n2)\n",
    "else:\n",
    "    print(\"Largest number is \",n3)"
   ]
  },
  {
   "cell_type": "markdown",
   "id": "591b06ac",
   "metadata": {},
   "source": [
    "**4. Program to Reverse a Number.**"
   ]
  },
  {
   "cell_type": "code",
   "execution_count": 6,
   "id": "8ca3b0ec",
   "metadata": {},
   "outputs": [
    {
     "name": "stdout",
     "output_type": "stream",
     "text": [
      "Enter the number::123\n",
      "reverse of number : 321\n"
     ]
    }
   ],
   "source": [
    "n=(input('Enter the number::'))\n",
    "print(\"reverse of number :\",n[::-1])"
   ]
  },
  {
   "cell_type": "markdown",
   "id": "3f3297d4",
   "metadata": {},
   "source": [
    "**5. Program To Check Leap Year Or Not.**"
   ]
  },
  {
   "cell_type": "code",
   "execution_count": 9,
   "id": "734793c8",
   "metadata": {},
   "outputs": [
    {
     "name": "stdout",
     "output_type": "stream",
     "text": [
      "enter the year :1996\n",
      "1996  is leap year\n"
     ]
    }
   ],
   "source": [
    "year=int(input(\"enter the year :\"))\n",
    "if ((year%400)==0) and ((year%100)==0):\n",
    "    print(year,\" is leap year\")\n",
    "elif ((year%4)==0) and ((year%100)!=0):\n",
    "    print(year,\" is leap year\")\n",
    "else:\n",
    "    print(year,\" is not leap year\")"
   ]
  },
  {
   "cell_type": "code",
   "execution_count": null,
   "id": "4e9d026f",
   "metadata": {},
   "outputs": [],
   "source": []
  }
 ],
 "metadata": {
  "kernelspec": {
   "display_name": "Python 3 (ipykernel)",
   "language": "python",
   "name": "python3"
  },
  "language_info": {
   "codemirror_mode": {
    "name": "ipython",
    "version": 3
   },
   "file_extension": ".py",
   "mimetype": "text/x-python",
   "name": "python",
   "nbconvert_exporter": "python",
   "pygments_lexer": "ipython3",
   "version": "3.9.13"
  }
 },
 "nbformat": 4,
 "nbformat_minor": 5
}
