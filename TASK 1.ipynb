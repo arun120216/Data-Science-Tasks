{
 "cells": [
  {
   "cell_type": "markdown",
   "id": "7b81d205",
   "metadata": {},
   "source": [
    "**1. Boolean checkZeros(int[] numberList) Check if the array numberList has one and only one zero in it.\n",
    "Only use a single for loop.Assume there are n numbers in the array.**"
   ]
  },
  {
   "cell_type": "code",
   "execution_count": 2,
   "id": "f9abf665",
   "metadata": {},
   "outputs": [
    {
     "name": "stdout",
     "output_type": "stream",
     "text": [
      "list has one and only one zero\n"
     ]
    }
   ],
   "source": [
    "a=[0,1,2,3,4,5,6]\n",
    "count=0\n",
    "for i in a:\n",
    "    if i==0:\n",
    "        count=count+1\n",
    "if count==1:\n",
    "    print(\"list has one and only one zero\")\n",
    "else:\n",
    "    print(\"list has more than one zero\")"
   ]
  },
  {
   "cell_type": "markdown",
   "id": "b6816863",
   "metadata": {},
   "source": [
    "**2. int[] sort(int[] numberList) Use any sorting algoritm to sort array numberlist.**"
   ]
  },
  {
   "cell_type": "code",
   "execution_count": 9,
   "id": "6c0f692a",
   "metadata": {
    "scrolled": true
   },
   "outputs": [
    {
     "name": "stdout",
     "output_type": "stream",
     "text": [
      "[1, 2, 3, 4, 5, 6, 7, 8, 9]\n"
     ]
    }
   ],
   "source": [
    "a=[7,3,1,8,5,9,2,6,4]\n",
    "\n",
    "for i in range(0,len(a)):\n",
    "    for j in range(i+1,len(a)):\n",
    "        if(a[i]>a[j]):\n",
    "            a[i],a[j]=[a[j],a[i]]\n",
    "print(a)"
   ]
  },
  {
   "cell_type": "markdown",
   "id": "de11c3f0",
   "metadata": {},
   "source": [
    "**3. String replaceSpace(char[]sentance) Replace every space in the string sentance with \"--\" and return the string Eg: If a sentance is \"I am a doctor\", you need to return \"I-- am--a--doctor\".**"
   ]
  },
  {
   "cell_type": "code",
   "execution_count": 7,
   "id": "c17f9090",
   "metadata": {
    "scrolled": true
   },
   "outputs": [
    {
     "name": "stdout",
     "output_type": "stream",
     "text": [
      "I--am--a--doctor.\n"
     ]
    }
   ],
   "source": [
    "a=\"I am a doctor.\"\n",
    "b=a.replace(\" \",\"--\")\n",
    "print(b)"
   ]
  },
  {
   "cell_type": "markdown",
   "id": "37092178",
   "metadata": {},
   "source": [
    "**4.Boolean checkUnique(char[]word) check if all characters in the string are unique Eg:mobile-true,because all characters in the string word are unique calculator_false,because c,I and a repeat multiple times.**"
   ]
  },
  {
   "cell_type": "code",
   "execution_count": 24,
   "id": "ac9436f2",
   "metadata": {
    "scrolled": true
   },
   "outputs": [
    {
     "name": "stdout",
     "output_type": "stream",
     "text": [
      "enter the string :malayalam\n",
      "['m', 'a', 'l', 'a', 'y', 'a', 'l', 'a', 'm']\n",
      "{'l', 'a', 'y', 'm'}\n",
      "string has repeated character\n"
     ]
    }
   ],
   "source": [
    "a=input(\"enter the string :\")\n",
    "l=[]\n",
    "for i in a:\n",
    "    l.append(i)\n",
    "print(l)\n",
    "s=set(l)\n",
    "print(s)\n",
    "if len(l)==len(s):\n",
    "    print(\"string has unique character\")\n",
    "else:\n",
    "    print(\"string has repeated character\")"
   ]
  },
  {
   "cell_type": "markdown",
   "id": "8ae212fb",
   "metadata": {},
   "source": [
    "**5.int search(int[] a,int number) Search for the number in array. If found,return its position/index.Assume there are n numbers in the array.**"
   ]
  },
  {
   "cell_type": "code",
   "execution_count": 36,
   "id": "fb56eabd",
   "metadata": {
    "scrolled": true
   },
   "outputs": [
    {
     "name": "stdout",
     "output_type": "stream",
     "text": [
      "enter the number to search :3\n",
      "index : 2\n"
     ]
    }
   ],
   "source": [
    "import numpy as np\n",
    "arr=np.array([1,2,3,4,5])\n",
    "num=int(input(\"enter the number to search :\"))\n",
    "index = np.where(arr==num)[0][0]\n",
    "print(\"index :\" ,index)"
   ]
  },
  {
   "cell_type": "markdown",
   "id": "4f51743f",
   "metadata": {},
   "source": [
    "**6.int swap(int a,int b) swap two numbers without using a third number**"
   ]
  },
  {
   "cell_type": "code",
   "execution_count": 39,
   "id": "82673700",
   "metadata": {},
   "outputs": [
    {
     "name": "stdout",
     "output_type": "stream",
     "text": [
      "value of a after swap : 20\n",
      "value of b after swap : 10\n"
     ]
    }
   ],
   "source": [
    "a=10\n",
    "b=20\n",
    "a,b=b,a\n",
    "print(\"value of a after swap :\",a)\n",
    "print(\"value of b after swap :\",b)"
   ]
  },
  {
   "cell_type": "markdown",
   "id": "6cab9d14",
   "metadata": {},
   "source": [
    "**7. int[] find_mismatched(int[] a,int[] b) if an array a is [1,2,4,32,12,6,8] and b is [2,6,10,12,1417] return or print the number which is present in a not in b**"
   ]
  },
  {
   "cell_type": "code",
   "execution_count": 40,
   "id": "4c8792a1",
   "metadata": {},
   "outputs": [
    {
     "name": "stdout",
     "output_type": "stream",
     "text": [
      "list of numbers in a not in b:  [1, 4, 32, 8]\n"
     ]
    }
   ],
   "source": [
    "a=[1,2,4,32,12,6,8]\n",
    "b=[2,6,10,12,1417]\n",
    "c=[]\n",
    "for i in a:\n",
    "    if i not in b:\n",
    "        c.append(i)\n",
    "print(\"list of numbers in a not in b: \",c)"
   ]
  },
  {
   "cell_type": "markdown",
   "id": "b5870fa6",
   "metadata": {},
   "source": [
    "**8.int find small or big(int[]a) if an array is a=[1,2,4,32,12,6,8] the biggest number is 32 and the smallest number is 1**"
   ]
  },
  {
   "cell_type": "code",
   "execution_count": 42,
   "id": "07bcc2b4",
   "metadata": {},
   "outputs": [
    {
     "name": "stdout",
     "output_type": "stream",
     "text": [
      "biggest num : 32\n",
      "smallest num : 1\n"
     ]
    }
   ],
   "source": [
    "a=[1,2,4,32,12,6,8] \n",
    "print(\"biggest num :\" ,max(a))\n",
    "print(\"smallest num :\" ,min(a))"
   ]
  },
  {
   "cell_type": "markdown",
   "id": "de5aedbf",
   "metadata": {},
   "source": [
    "**9.boolean checkWrongOrWrite(char[] a) Check whether the string contains more or equal to three vowels(a,e,i,o,u) if yes then the string is false,else true**"
   ]
  },
  {
   "cell_type": "code",
   "execution_count": 44,
   "id": "fe745c16",
   "metadata": {},
   "outputs": [
    {
     "name": "stdout",
     "output_type": "stream",
     "text": [
      "enter the string :mobile\n",
      "3\n",
      "false\n"
     ]
    }
   ],
   "source": [
    "string=input(\"enter the string :\")\n",
    "vowels=[\"A\",\"E\",\"I\",\"O\",\"U\",\"a\",\"e\",\"i\",\"o\",\"u\"]\n",
    "count=0\n",
    "for i in string:\n",
    "    if i in vowels:\n",
    "            count+=1\n",
    "print(count)\n",
    "if count>=3:\n",
    "    print(\"false\")\n",
    "else:\n",
    "    print(\"true\")\n",
    "            "
   ]
  },
  {
   "cell_type": "markdown",
   "id": "72750a4d",
   "metadata": {},
   "source": [
    "**10.String removeDuplicate(char[] a) Remove duplicates character from the string and return a new stringwith no duplicate characters for eg: if the string is \"calculator\" return string as 'utor'**"
   ]
  },
  {
   "cell_type": "code",
   "execution_count": 48,
   "id": "de999899",
   "metadata": {},
   "outputs": [
    {
     "name": "stdout",
     "output_type": "stream",
     "text": [
      "utor\n"
     ]
    }
   ],
   "source": [
    "s=\"calculator\"\n",
    "s1=\"\"\n",
    "for i in s:\n",
    "    if s.count(i)==1:\n",
    "        s1+=i\n",
    "print(s1)"
   ]
  },
  {
   "cell_type": "code",
   "execution_count": null,
   "id": "596a163e",
   "metadata": {},
   "outputs": [],
   "source": []
  }
 ],
 "metadata": {
  "kernelspec": {
   "display_name": "Python 3 (ipykernel)",
   "language": "python",
   "name": "python3"
  },
  "language_info": {
   "codemirror_mode": {
    "name": "ipython",
    "version": 3
   },
   "file_extension": ".py",
   "mimetype": "text/x-python",
   "name": "python",
   "nbconvert_exporter": "python",
   "pygments_lexer": "ipython3",
   "version": "3.9.13"
  }
 },
 "nbformat": 4,
 "nbformat_minor": 5
}
