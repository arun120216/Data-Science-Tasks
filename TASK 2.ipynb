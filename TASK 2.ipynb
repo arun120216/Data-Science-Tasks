{
 "cells": [
  {
   "cell_type": "markdown",
   "id": "3884692b",
   "metadata": {},
   "source": [
    "**1. Program to calculate the area of a rectangle.**"
   ]
  },
  {
   "cell_type": "code",
   "execution_count": 2,
   "id": "02520b48",
   "metadata": {},
   "outputs": [
    {
     "name": "stdout",
     "output_type": "stream",
     "text": [
      "enter the length :5\n",
      "enter the width :6\n",
      "Area of rectangle is : 30.0\n"
     ]
    }
   ],
   "source": [
    "length=float(input(\"enter the length :\"))\n",
    "width=float(input(\"enter the width :\"))\n",
    "area=length*width\n",
    "print(\"Area of rectangle is :\",area)"
   ]
  },
  {
   "cell_type": "markdown",
   "id": "2c606a75",
   "metadata": {},
   "source": [
    "**2. Program to find the area of square.**"
   ]
  },
  {
   "cell_type": "code",
   "execution_count": 3,
   "id": "13168279",
   "metadata": {},
   "outputs": [
    {
     "name": "stdout",
     "output_type": "stream",
     "text": [
      "enter a side of the square :4\n",
      "Area of square is:  16.0\n"
     ]
    }
   ],
   "source": [
    "a=float(input(\"enter a side of the square :\"))\n",
    "print(\"Area of square is: \",a*a)"
   ]
  },
  {
   "cell_type": "markdown",
   "id": "0ed225e8",
   "metadata": {},
   "source": [
    "**3. Check the given number is prime or not.**"
   ]
  },
  {
   "cell_type": "code",
   "execution_count": 7,
   "id": "5773e2c0",
   "metadata": {},
   "outputs": [
    {
     "name": "stdout",
     "output_type": "stream",
     "text": [
      "enter the number :11\n",
      "11 is a prime number\n"
     ]
    }
   ],
   "source": [
    "n=int(input(\"enter the number :\"))\n",
    "if n>1:\n",
    "    for i in range(2, int(n/2)+1):\n",
    "         if (n % i) == 0:\n",
    "            print(n, \"is not a prime number\")\n",
    "            break\n",
    "    else:\n",
    "        print(n, \"is a prime number\")\n",
    "else:\n",
    "    print(n, \"is not a prime number\")"
   ]
  },
  {
   "cell_type": "code",
   "execution_count": null,
   "id": "0e9b3edf",
   "metadata": {},
   "outputs": [],
   "source": []
  }
 ],
 "metadata": {
  "kernelspec": {
   "display_name": "Python 3 (ipykernel)",
   "language": "python",
   "name": "python3"
  },
  "language_info": {
   "codemirror_mode": {
    "name": "ipython",
    "version": 3
   },
   "file_extension": ".py",
   "mimetype": "text/x-python",
   "name": "python",
   "nbconvert_exporter": "python",
   "pygments_lexer": "ipython3",
   "version": "3.9.13"
  }
 },
 "nbformat": 4,
 "nbformat_minor": 5
}
