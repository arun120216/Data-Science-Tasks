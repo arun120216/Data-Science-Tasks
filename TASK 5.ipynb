{
 "cells": [
  {
   "cell_type": "markdown",
   "id": "5fa813ae",
   "metadata": {},
   "source": [
    "**1. Program to swap two  numbers.**"
   ]
  },
  {
   "cell_type": "code",
   "execution_count": 4,
   "id": "ba35418d",
   "metadata": {},
   "outputs": [
    {
     "name": "stdout",
     "output_type": "stream",
     "text": [
      "value of a after swapping : 20\n",
      "value of b after swapping : 10\n"
     ]
    }
   ],
   "source": [
    "a=10\n",
    "b=20\n",
    "c=a\n",
    "a=b\n",
    "b=c\n",
    "print(\"value of a after swapping :\",a)\n",
    "print(\"value of b after swapping :\",b)"
   ]
  },
  {
   "cell_type": "markdown",
   "id": "7a331971",
   "metadata": {},
   "source": [
    "**2. Program to swap two numbers without using the third variable.**"
   ]
  },
  {
   "cell_type": "code",
   "execution_count": 6,
   "id": "fbe6eb45",
   "metadata": {},
   "outputs": [
    {
     "name": "stdout",
     "output_type": "stream",
     "text": [
      "x= 20\n",
      "y= 10\n"
     ]
    }
   ],
   "source": [
    "x=10\n",
    "y=20 \n",
    "x,y=y,x\n",
    "print(\"x=\",x)\n",
    "print(\"y=\",y)"
   ]
  },
  {
   "cell_type": "markdown",
   "id": "629fea8b",
   "metadata": {},
   "source": [
    "**3. Program to print the elements of an array.**"
   ]
  },
  {
   "cell_type": "code",
   "execution_count": 8,
   "id": "5c1a63ed",
   "metadata": {},
   "outputs": [
    {
     "name": "stdout",
     "output_type": "stream",
     "text": [
      "1\n",
      "2\n",
      "3\n",
      "4\n",
      "5\n"
     ]
    }
   ],
   "source": [
    "arr=[1,2,3,4,5]\n",
    "for i in range(0,len(arr)):    \n",
    "    print(arr[i])   "
   ]
  },
  {
   "cell_type": "markdown",
   "id": "0773765c",
   "metadata": {},
   "source": [
    "**4. Program to print the elements of an array in reverse order.**"
   ]
  },
  {
   "cell_type": "code",
   "execution_count": 13,
   "id": "abd8a910",
   "metadata": {},
   "outputs": [
    {
     "name": "stdout",
     "output_type": "stream",
     "text": [
      "reversed array: [5, 4, 3, 2, 1]\n"
     ]
    }
   ],
   "source": [
    "arr=[1,2,3,4,5]\n",
    "rev=arr[::-1] \n",
    "print(\"reversed array:\",rev)"
   ]
  },
  {
   "cell_type": "markdown",
   "id": "c663f929",
   "metadata": {},
   "source": [
    "**5. Program to print the largest element present in an array.**"
   ]
  },
  {
   "cell_type": "code",
   "execution_count": 14,
   "id": "55992fbc",
   "metadata": {},
   "outputs": [
    {
     "name": "stdout",
     "output_type": "stream",
     "text": [
      "5\n"
     ]
    }
   ],
   "source": [
    "arr=[1,2,3,4,5]\n",
    "print(max(arr))"
   ]
  },
  {
   "cell_type": "code",
   "execution_count": null,
   "id": "e720165a",
   "metadata": {},
   "outputs": [],
   "source": []
  }
 ],
 "metadata": {
  "kernelspec": {
   "display_name": "Python 3 (ipykernel)",
   "language": "python",
   "name": "python3"
  },
  "language_info": {
   "codemirror_mode": {
    "name": "ipython",
    "version": 3
   },
   "file_extension": ".py",
   "mimetype": "text/x-python",
   "name": "python",
   "nbconvert_exporter": "python",
   "pygments_lexer": "ipython3",
   "version": "3.9.13"
  }
 },
 "nbformat": 4,
 "nbformat_minor": 5
}
